{
  "nbformat": 4,
  "nbformat_minor": 0,
  "metadata": {
    "colab": {
      "name": "3_4_sarcasm_classifier.ipynb",
      "provenance": [],
      "authorship_tag": "ABX9TyOz3Fz9aHSaaG/AWTZ8CK3e",
      "include_colab_link": true
    },
    "kernelspec": {
      "name": "python3",
      "display_name": "Python 3"
    },
    "language_info": {
      "name": "python"
    },
    "accelerator": "GPU"
  },
  "cells": [
    {
      "cell_type": "markdown",
      "metadata": {
        "id": "view-in-github",
        "colab_type": "text"
      },
      "source": [
        "<a href=\"https://colab.research.google.com/github/xuziyue/tensorflow-models/blob/main/3_4_sarcasm_classifier.ipynb\" target=\"_parent\"><img src=\"https://colab.research.google.com/assets/colab-badge.svg\" alt=\"Open In Colab\"/></a>"
      ]
    },
    {
      "cell_type": "code",
      "execution_count": 1,
      "metadata": {
        "id": "fUvQpEHxt9ip"
      },
      "outputs": [],
      "source": [
        "import json\n",
        "import numpy as np\n",
        "import matplotlib.pyplot as plt\n",
        "\n",
        "import tensorflow as tf\n",
        "from tensorflow.keras.preprocessing.text import Tokenizer\n",
        "from tensorflow.keras.preprocessing.sequence import pad_sequences"
      ]
    },
    {
      "cell_type": "markdown",
      "source": [
        "###Hyperparameters"
      ],
      "metadata": {
        "id": "9QYke0kcuw1W"
      }
    },
    {
      "cell_type": "code",
      "source": [
        "vocab_size = 10000\n",
        "embedding_dim = 16\n",
        "max_length = 100\n",
        "trunc_type='post'\n",
        "padding_type='post'\n",
        "oov_tok = \"<OOV>\"\n",
        "training_size = 20000"
      ],
      "metadata": {
        "id": "JXW6omKFuoC-"
      },
      "execution_count": 2,
      "outputs": []
    },
    {
      "cell_type": "markdown",
      "source": [
        "###Download news headlines dataset"
      ],
      "metadata": {
        "id": "k5RRt4REu1f_"
      }
    },
    {
      "cell_type": "code",
      "source": [
        "!gdown --id 1xRU3xY5-tkiPGvlz5xBJ18_pHWSRzI4v"
      ],
      "metadata": {
        "colab": {
          "base_uri": "https://localhost:8080/"
        },
        "id": "PQlLg-vfuu07",
        "outputId": "828e420d-fe6f-4d80-d80f-d4f09a1d91a9"
      },
      "execution_count": 3,
      "outputs": [
        {
          "output_type": "stream",
          "name": "stdout",
          "text": [
            "Downloading...\n",
            "From: https://drive.google.com/uc?id=1xRU3xY5-tkiPGvlz5xBJ18_pHWSRzI4v\n",
            "To: /content/sarcasm.json\n",
            "\r  0% 0.00/5.64M [00:00<?, ?B/s]\r100% 5.64M/5.64M [00:00<00:00, 89.4MB/s]\n"
          ]
        }
      ]
    },
    {
      "cell_type": "code",
      "source": [
        "with open(\"./sarcasm.json\", 'r') as f:\n",
        "    datastore = json.load(f)\n",
        "\n",
        "sentences = []\n",
        "labels = []\n",
        "\n",
        "for item in datastore:\n",
        "    sentences.append(item['headline'])\n",
        "    labels.append(item['is_sarcastic'])"
      ],
      "metadata": {
        "id": "E3l3YShhu6Q1"
      },
      "execution_count": 4,
      "outputs": []
    },
    {
      "cell_type": "code",
      "source": [
        "training_sentences = sentences[0:training_size]\n",
        "testing_sentences = sentences[training_size:]\n",
        "training_labels = labels[0:training_size]\n",
        "testing_labels = labels[training_size:]"
      ],
      "metadata": {
        "id": "IHmQff2BvwYE"
      },
      "execution_count": 5,
      "outputs": []
    },
    {
      "cell_type": "code",
      "source": [
        "tokenizer = Tokenizer(num_words=vocab_size, oov_token=oov_tok)\n",
        "tokenizer.fit_on_texts(training_sentences)\n",
        "word_index = tokenizer.word_index\n",
        "\n",
        "training_sequences = tokenizer.texts_to_sequences(training_sentences)\n",
        "training_padded = pad_sequences(training_sequences, maxlen=max_length, padding=padding_type, truncating=trunc_type)\n",
        "\n",
        "testing_sequences = tokenizer.texts_to_sequences(testing_sentences)\n",
        "testing_padded = pad_sequences(testing_sequences, maxlen=max_length, padding=padding_type, truncating=trunc_type)"
      ],
      "metadata": {
        "id": "_b6pthsbvyyJ"
      },
      "execution_count": 6,
      "outputs": []
    },
    {
      "cell_type": "code",
      "source": [
        "training_padded = np.array(training_padded)\n",
        "training_labels = np.array(training_labels)\n",
        "testing_padded = np.array(testing_padded)\n",
        "testing_labels = np.array(testing_labels)"
      ],
      "metadata": {
        "id": "DGbP6Nrq4YZ7"
      },
      "execution_count": 7,
      "outputs": []
    },
    {
      "cell_type": "code",
      "source": [
        "model = tf.keras.Sequential([\n",
        "    tf.keras.layers.Embedding(vocab_size, embedding_dim, input_length=max_length),\n",
        "    tf.keras.layers.GlobalAveragePooling1D(),\n",
        "    tf.keras.layers.Dense(24, activation='relu'),\n",
        "    tf.keras.layers.Dense(1, activation='sigmoid')\n",
        "])\n",
        "model.compile(loss='binary_crossentropy',optimizer='adam',metrics=['accuracy'])"
      ],
      "metadata": {
        "id": "A3G4GR4F3gZi"
      },
      "execution_count": 8,
      "outputs": []
    },
    {
      "cell_type": "code",
      "source": [
        "model.summary()"
      ],
      "metadata": {
        "colab": {
          "base_uri": "https://localhost:8080/"
        },
        "id": "SrK7Qm4x3jZI",
        "outputId": "6a97c630-2596-4554-878d-5c96ae6fa0f8"
      },
      "execution_count": 9,
      "outputs": [
        {
          "output_type": "stream",
          "name": "stdout",
          "text": [
            "Model: \"sequential\"\n",
            "_________________________________________________________________\n",
            " Layer (type)                Output Shape              Param #   \n",
            "=================================================================\n",
            " embedding (Embedding)       (None, 100, 16)           160000    \n",
            "                                                                 \n",
            " global_average_pooling1d (G  (None, 16)               0         \n",
            " lobalAveragePooling1D)                                          \n",
            "                                                                 \n",
            " dense (Dense)               (None, 24)                408       \n",
            "                                                                 \n",
            " dense_1 (Dense)             (None, 1)                 25        \n",
            "                                                                 \n",
            "=================================================================\n",
            "Total params: 160,433\n",
            "Trainable params: 160,433\n",
            "Non-trainable params: 0\n",
            "_________________________________________________________________\n"
          ]
        }
      ]
    },
    {
      "cell_type": "code",
      "source": [
        "num_epochs = 30\n",
        "history = model.fit(training_padded, training_labels, epochs=num_epochs, validation_data=(testing_padded, testing_labels), verbose=2)"
      ],
      "metadata": {
        "colab": {
          "base_uri": "https://localhost:8080/"
        },
        "id": "OWuEkMZ-4HVG",
        "outputId": "0f0d5192-0a61-48b9-9ab9-bde5401f50ef"
      },
      "execution_count": 10,
      "outputs": [
        {
          "output_type": "stream",
          "name": "stdout",
          "text": [
            "Epoch 1/30\n",
            "625/625 - 4s - loss: 0.6638 - accuracy: 0.5917 - val_loss: 0.5755 - val_accuracy: 0.8086 - 4s/epoch - 6ms/step\n",
            "Epoch 2/30\n",
            "625/625 - 2s - loss: 0.4285 - accuracy: 0.8319 - val_loss: 0.3969 - val_accuracy: 0.8220 - 2s/epoch - 4ms/step\n",
            "Epoch 3/30\n",
            "625/625 - 2s - loss: 0.3104 - accuracy: 0.8759 - val_loss: 0.3511 - val_accuracy: 0.8533 - 2s/epoch - 4ms/step\n",
            "Epoch 4/30\n",
            "625/625 - 2s - loss: 0.2592 - accuracy: 0.8982 - val_loss: 0.3412 - val_accuracy: 0.8544 - 2s/epoch - 4ms/step\n",
            "Epoch 5/30\n",
            "625/625 - 2s - loss: 0.2237 - accuracy: 0.9133 - val_loss: 0.3470 - val_accuracy: 0.8556 - 2s/epoch - 4ms/step\n",
            "Epoch 6/30\n",
            "625/625 - 2s - loss: 0.1963 - accuracy: 0.9256 - val_loss: 0.3501 - val_accuracy: 0.8524 - 2s/epoch - 3ms/step\n",
            "Epoch 7/30\n",
            "625/625 - 2s - loss: 0.1758 - accuracy: 0.9338 - val_loss: 0.3586 - val_accuracy: 0.8544 - 2s/epoch - 3ms/step\n",
            "Epoch 8/30\n",
            "625/625 - 2s - loss: 0.1570 - accuracy: 0.9420 - val_loss: 0.3950 - val_accuracy: 0.8423 - 2s/epoch - 3ms/step\n",
            "Epoch 9/30\n",
            "625/625 - 2s - loss: 0.1406 - accuracy: 0.9491 - val_loss: 0.3899 - val_accuracy: 0.8527 - 2s/epoch - 4ms/step\n",
            "Epoch 10/30\n",
            "625/625 - 2s - loss: 0.1271 - accuracy: 0.9553 - val_loss: 0.4136 - val_accuracy: 0.8475 - 2s/epoch - 4ms/step\n",
            "Epoch 11/30\n",
            "625/625 - 2s - loss: 0.1150 - accuracy: 0.9605 - val_loss: 0.4530 - val_accuracy: 0.8374 - 2s/epoch - 3ms/step\n",
            "Epoch 12/30\n",
            "625/625 - 2s - loss: 0.1079 - accuracy: 0.9632 - val_loss: 0.4575 - val_accuracy: 0.8445 - 2s/epoch - 3ms/step\n",
            "Epoch 13/30\n",
            "625/625 - 2s - loss: 0.0965 - accuracy: 0.9672 - val_loss: 0.4789 - val_accuracy: 0.8450 - 2s/epoch - 4ms/step\n",
            "Epoch 14/30\n",
            "625/625 - 2s - loss: 0.0881 - accuracy: 0.9712 - val_loss: 0.5113 - val_accuracy: 0.8375 - 2s/epoch - 3ms/step\n",
            "Epoch 15/30\n",
            "625/625 - 2s - loss: 0.0816 - accuracy: 0.9733 - val_loss: 0.5502 - val_accuracy: 0.8350 - 2s/epoch - 3ms/step\n",
            "Epoch 16/30\n",
            "625/625 - 2s - loss: 0.0746 - accuracy: 0.9753 - val_loss: 0.5761 - val_accuracy: 0.8331 - 2s/epoch - 3ms/step\n",
            "Epoch 17/30\n",
            "625/625 - 2s - loss: 0.0686 - accuracy: 0.9788 - val_loss: 0.5917 - val_accuracy: 0.8338 - 2s/epoch - 3ms/step\n",
            "Epoch 18/30\n",
            "625/625 - 2s - loss: 0.0626 - accuracy: 0.9797 - val_loss: 0.6187 - val_accuracy: 0.8335 - 2s/epoch - 4ms/step\n",
            "Epoch 19/30\n",
            "625/625 - 2s - loss: 0.0572 - accuracy: 0.9826 - val_loss: 0.6559 - val_accuracy: 0.8298 - 2s/epoch - 4ms/step\n",
            "Epoch 20/30\n",
            "625/625 - 2s - loss: 0.0556 - accuracy: 0.9828 - val_loss: 0.7110 - val_accuracy: 0.8219 - 2s/epoch - 4ms/step\n",
            "Epoch 21/30\n",
            "625/625 - 2s - loss: 0.0483 - accuracy: 0.9855 - val_loss: 0.7110 - val_accuracy: 0.8271 - 2s/epoch - 4ms/step\n",
            "Epoch 22/30\n",
            "625/625 - 2s - loss: 0.0460 - accuracy: 0.9855 - val_loss: 0.7443 - val_accuracy: 0.8252 - 2s/epoch - 3ms/step\n",
            "Epoch 23/30\n",
            "625/625 - 2s - loss: 0.0416 - accuracy: 0.9884 - val_loss: 0.8137 - val_accuracy: 0.8199 - 2s/epoch - 3ms/step\n",
            "Epoch 24/30\n",
            "625/625 - 2s - loss: 0.0389 - accuracy: 0.9888 - val_loss: 0.8393 - val_accuracy: 0.8192 - 2s/epoch - 3ms/step\n",
            "Epoch 25/30\n",
            "625/625 - 2s - loss: 0.0351 - accuracy: 0.9904 - val_loss: 0.8512 - val_accuracy: 0.8199 - 2s/epoch - 4ms/step\n",
            "Epoch 26/30\n",
            "625/625 - 2s - loss: 0.0334 - accuracy: 0.9902 - val_loss: 0.8860 - val_accuracy: 0.8156 - 2s/epoch - 4ms/step\n",
            "Epoch 27/30\n",
            "625/625 - 2s - loss: 0.0307 - accuracy: 0.9911 - val_loss: 0.9255 - val_accuracy: 0.8131 - 2s/epoch - 3ms/step\n",
            "Epoch 28/30\n",
            "625/625 - 2s - loss: 0.0283 - accuracy: 0.9914 - val_loss: 0.9601 - val_accuracy: 0.8150 - 2s/epoch - 3ms/step\n",
            "Epoch 29/30\n",
            "625/625 - 2s - loss: 0.0272 - accuracy: 0.9917 - val_loss: 0.9999 - val_accuracy: 0.8146 - 2s/epoch - 3ms/step\n",
            "Epoch 30/30\n",
            "625/625 - 2s - loss: 0.0258 - accuracy: 0.9923 - val_loss: 1.0373 - val_accuracy: 0.8116 - 2s/epoch - 4ms/step\n"
          ]
        }
      ]
    },
    {
      "cell_type": "code",
      "source": [
        "def plot_graphs(history, string):\n",
        "  plt.plot(history.history[string])\n",
        "  plt.plot(history.history['val_'+string])\n",
        "  plt.xlabel(\"Epochs\")\n",
        "  plt.ylabel(string)\n",
        "  plt.legend([string, 'val_'+string])\n",
        "  plt.show()\n",
        "  \n",
        "plot_graphs(history, \"accuracy\")\n",
        "plot_graphs(history, \"loss\")"
      ],
      "metadata": {
        "colab": {
          "base_uri": "https://localhost:8080/",
          "height": 541
        },
        "id": "BobsI89x5OQF",
        "outputId": "3b67fafd-00fe-4fbc-a162-350f30d3f9dd"
      },
      "execution_count": 11,
      "outputs": [
        {
          "output_type": "display_data",
          "data": {
            "image/png": "[encoded data removed]",
            "text/plain": [
              "<Figure size 432x288 with 1 Axes>"
            ]
          },
          "metadata": {
            "needs_background": "light"
          }
        },
        {
          "output_type": "display_data",
          "data": {
            "image/png": "[encoded data removed]",
            "text/plain": [
              "<Figure size 432x288 with 1 Axes>"
            ]
          },
          "metadata": {
            "needs_background": "light"
          }
        }
      ]
    },
    {
      "cell_type": "code",
      "source": [
        "reverse_word_index = dict([(value, key) for (key, value) in word_index.items()])\n",
        "\n",
        "def decode_sentence(text):\n",
        "    return ' '.join([reverse_word_index.get(i, '?') for i in text])\n",
        "\n",
        "print(decode_sentence(training_padded[3]))\n",
        "print(training_sentences[3])\n",
        "print(labels[3])"
      ],
      "metadata": {
        "colab": {
          "base_uri": "https://localhost:8080/"
        },
        "id": "sBezF5tB7luX",
        "outputId": "ff69e2df-0f54-4aa6-84aa-2731d1090e5e"
      },
      "execution_count": 17,
      "outputs": [
        {
          "output_type": "stream",
          "name": "stdout",
          "text": [
            "boehner just wants wife to listen not come up with alternative debt reduction ideas ? ? ? ? ? ? ? ? ? ? ? ? ? ? ? ? ? ? ? ? ? ? ? ? ? ? ? ? ? ? ? ? ? ? ? ? ? ? ? ? ? ? ? ? ? ? ? ? ? ? ? ? ? ? ? ? ? ? ? ? ? ? ? ? ? ? ? ? ? ? ? ? ? ? ? ? ? ? ? ? ? ? ? ? ? ?\n",
            "boehner just wants wife to listen, not come up with alternative debt-reduction ideas\n",
            "1\n"
          ]
        }
      ]
    },
    {
      "cell_type": "code",
      "source": [
        "e = model.layers[0]\n",
        "weights = e.get_weights()[0]\n",
        "print(weights.shape) # shape: (vocab_size, embedding_dim)"
      ],
      "metadata": {
        "colab": {
          "base_uri": "https://localhost:8080/"
        },
        "id": "QXlJ20Ve8XqB",
        "outputId": "954e0c91-a2ca-4e80-f120-baffeef4a52e"
      },
      "execution_count": 18,
      "outputs": [
        {
          "output_type": "stream",
          "name": "stdout",
          "text": [
            "(10000, 16)\n"
          ]
        }
      ]
    },
    {
      "cell_type": "code",
      "source": [
        "sentence = [\"granny starting to fear spiders in the garden might be real\", \"game of thrones season finale showing this sunday night\"]\n",
        "sequences = tokenizer.texts_to_sequences(sentence)\n",
        "padded = pad_sequences(sequences, maxlen=max_length, padding=padding_type, truncating=trunc_type)\n",
        "print(model.predict(padded))"
      ],
      "metadata": {
        "colab": {
          "base_uri": "https://localhost:8080/"
        },
        "id": "BpfWNg7J9Bdx",
        "outputId": "2e6e0153-e004-4624-b19e-3ce0c2c1ba8b"
      },
      "execution_count": 19,
      "outputs": [
        {
          "output_type": "stream",
          "name": "stdout",
          "text": [
            "[[9.686765e-01]\n",
            " [9.663891e-05]]\n"
          ]
        }
      ]
    },
    {
      "cell_type": "code",
      "source": [
        "# import io\n",
        "\n",
        "# out_v = io.open('vecs.tsv', 'w', encoding='utf-8')\n",
        "# out_m = io.open('meta.tsv', 'w', encoding='utf-8')\n",
        "# for word_num in range(1, vocab_size):\n",
        "#   word = reverse_word_index[word_num]\n",
        "#   embeddings = weights[word_num]\n",
        "#   out_m.write(word + \"\\n\")\n",
        "#   out_v.write('\\t'.join([str(x) for x in embeddings]) + \"\\n\")\n",
        "# out_v.close()\n",
        "# out_m.close()"
      ],
      "metadata": {
        "id": "QS8gURPZ870X"
      },
      "execution_count": null,
      "outputs": []
    },
    {
      "cell_type": "code",
      "source": [
        "# try:\n",
        "#   from google.colab import files\n",
        "# except ImportError:\n",
        "#   pass\n",
        "# else:\n",
        "#   files.download('vecs.tsv')\n",
        "#   files.download('meta.tsv')"
      ],
      "metadata": {
        "id": "TvRmOl258_BW"
      },
      "execution_count": null,
      "outputs": []
    }
  ]
}