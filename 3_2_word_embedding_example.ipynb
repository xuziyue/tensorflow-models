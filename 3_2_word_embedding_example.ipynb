{
  "nbformat": 4,
  "nbformat_minor": 0,
  "metadata": {
    "colab": {
      "name": "3_2_word_embedding_example.ipynb",
      "provenance": [],
      "collapsed_sections": [],
      "authorship_tag": "ABX9TyOhmWoAIiQq2Jgm/wvl70qB",
      "include_colab_link": true
    },
    "kernelspec": {
      "name": "python3",
      "display_name": "Python 3"
    },
    "language_info": {
      "name": "python"
    },
    "accelerator": "GPU"
  },
  "cells": [
    {
      "cell_type": "markdown",
      "metadata": {
        "id": "view-in-github",
        "colab_type": "text"
      },
      "source": [
        "<a href=\"https://colab.research.google.com/github/xuziyue/tensorflow-models/blob/main/3_2_word_embedding_example.ipynb\" target=\"_parent\"><img src=\"https://colab.research.google.com/assets/colab-badge.svg\" alt=\"Open In Colab\"/></a>"
      ]
    },
    {
      "cell_type": "markdown",
      "source": [
        "###A Great Example\n",
        "\n",
        "https://machinelearningmastery.com/use-word-embedding-layers-deep-learning-keras/"
      ],
      "metadata": {
        "id": "n8nZhj_G1Ttp"
      }
    },
    {
      "cell_type": "code",
      "execution_count": null,
      "metadata": {
        "colab": {
          "base_uri": "https://localhost:8080/"
        },
        "id": "T2kbps7oyNWS",
        "outputId": "f08fe344-6995-4651-b05a-f8ed2c40a2bc"
      },
      "outputs": [
        {
          "output_type": "stream",
          "name": "stdout",
          "text": [
            "2.7.0\n"
          ]
        }
      ],
      "source": [
        "import numpy as np\n",
        "import tensorflow as tf\n",
        "import tensorflow_datasets as tfds\n",
        "from tensorflow.keras.preprocessing.text import Tokenizer\n",
        "from tensorflow.keras.preprocessing.sequence import pad_sequences\n",
        "\n",
        "print(tf.__version__)"
      ]
    },
    {
      "cell_type": "code",
      "source": [
        "# define documents\n",
        "docs = ['Well done!',\n",
        "\t\t'Good work',\n",
        "\t\t'Great effort',\n",
        "\t\t'nice work',\n",
        "\t\t'Excellent!',\n",
        "\t\t'Weak',\n",
        "\t\t'Poor effort!',\n",
        "\t\t'not good',\n",
        "\t\t'poor work',\n",
        "\t\t'Could have done better.']\n",
        "# define class labels\n",
        "labels = np.array([1,1,1,1,1,0,0,0,0,0])\n",
        "# integer encode the documents\n",
        "vocab_size = 50\n",
        "encoded_docs = [tf.keras.preprocessing.text.one_hot(d, vocab_size) for d in docs]\n",
        "# print(encoded_docs)\n",
        "# pad documents to a max length of 4 words\n",
        "max_length = 4\n",
        "padded_docs = pad_sequences(encoded_docs, maxlen=max_length, padding='post')\n",
        "# print(padded_docs)\n",
        "# define the model\n",
        "model = tf.keras.Sequential()\n",
        "model.add(tf.keras.layers.Embedding(vocab_size, 8, input_length=max_length))\n",
        "model.add(tf.keras.layers.GlobalAveragePooling1D())\n",
        "# model.add(tf.keras.layers.Flatten())\n",
        "model.add(tf.keras.layers.Dense(1, activation='sigmoid'))\n",
        "# compile the model\n",
        "model.compile(optimizer='adam', loss='binary_crossentropy', metrics=['accuracy'])\n",
        "# summarize the model\n",
        "print(model.summary())"
      ],
      "metadata": {
        "colab": {
          "base_uri": "https://localhost:8080/"
        },
        "id": "JGZOmcJyp4ot",
        "outputId": "24e74444-2c10-4ae3-ca07-cc43d65c5786"
      },
      "execution_count": null,
      "outputs": [
        {
          "output_type": "stream",
          "name": "stdout",
          "text": [
            "Model: \"sequential\"\n",
            "_________________________________________________________________\n",
            " Layer (type)                Output Shape              Param #   \n",
            "=================================================================\n",
            " embedding (Embedding)       (None, 4, 8)              400       \n",
            "                                                                 \n",
            " global_average_pooling1d (G  (None, 8)                0         \n",
            " lobalAveragePooling1D)                                          \n",
            "                                                                 \n",
            " dense (Dense)               (None, 1)                 9         \n",
            "                                                                 \n",
            "=================================================================\n",
            "Total params: 409\n",
            "Trainable params: 409\n",
            "Non-trainable params: 0\n",
            "_________________________________________________________________\n",
            "None\n"
          ]
        }
      ]
    },
    {
      "cell_type": "code",
      "source": [
        "# word embedding\n",
        "model.layers[0].get_weights()[0].shape"
      ],
      "metadata": {
        "colab": {
          "base_uri": "https://localhost:8080/"
        },
        "id": "CJKzkb4Fr-pa",
        "outputId": "c38cc218-8321-4f11-e738-5fbc618e45a7"
      },
      "execution_count": null,
      "outputs": [
        {
          "output_type": "execute_result",
          "data": {
            "text/plain": [
              "(50, 8)"
            ]
          },
          "metadata": {},
          "execution_count": 3
        }
      ]
    },
    {
      "cell_type": "code",
      "source": [
        "# embedding layer output\n",
        "model.layers[0](padded_docs).shape"
      ],
      "metadata": {
        "colab": {
          "base_uri": "https://localhost:8080/"
        },
        "id": "LHOsJX9WrDk8",
        "outputId": "641e8c86-bd3f-4e6f-a08c-c476ee0ad962"
      },
      "execution_count": null,
      "outputs": [
        {
          "output_type": "execute_result",
          "data": {
            "text/plain": [
              "TensorShape([10, 4, 8])"
            ]
          },
          "metadata": {},
          "execution_count": 4
        }
      ]
    },
    {
      "cell_type": "code",
      "source": [
        "# fit the model\n",
        "model.fit(padded_docs, labels, epochs=50, verbose=0)\n",
        "# evaluate the model\n",
        "loss, accuracy = model.evaluate(padded_docs, labels, verbose=0)\n",
        "print('Accuracy: %f' % (accuracy*100))"
      ],
      "metadata": {
        "colab": {
          "base_uri": "https://localhost:8080/"
        },
        "id": "cO6whsPCsJQ_",
        "outputId": "e8beadd2-484e-444a-8c87-065f9a09a4d4"
      },
      "execution_count": null,
      "outputs": [
        {
          "output_type": "stream",
          "name": "stdout",
          "text": [
            "Accuracy: 80.000001\n"
          ]
        }
      ]
    },
    {
      "cell_type": "code",
      "source": [
        "print(encoded_docs[0])\n",
        "print(padded_docs[0])\n",
        "# 每个句子4个单词，每个单词 8-dim Vector存，所以用 (4, 8) Tensor 来encode一句话\n",
        "print(model.layers[0](padded_docs)[0].shape)\n",
        "print(model.layers[0](padded_docs)[0])"
      ],
      "metadata": {
        "id": "qkjZt1n6wsZX",
        "colab": {
          "base_uri": "https://localhost:8080/"
        },
        "outputId": "6d2ca541-b04d-4703-e78a-c7a8463f2f6f"
      },
      "execution_count": null,
      "outputs": [
        {
          "output_type": "stream",
          "name": "stdout",
          "text": [
            "[29, 4]\n",
            "[29  4  0  0]\n",
            "(4, 8)\n",
            "tf.Tensor(\n",
            "[[-0.02121876  0.04471957  0.09124632  0.0430741   0.09961157 -0.02272778\n",
            "  -0.09184757 -0.02938485]\n",
            " [-0.00388729  0.06070412  0.08556236  0.08647757  0.01273149 -0.00050254\n",
            "   0.01930864 -0.06581032]\n",
            " [-0.08058061  0.03679593  0.038486    0.00696972  0.06237729 -0.04840755\n",
            "  -0.0351923  -0.08223671]\n",
            " [-0.08058061  0.03679593  0.038486    0.00696972  0.06237729 -0.04840755\n",
            "  -0.0351923  -0.08223671]], shape=(4, 8), dtype=float32)\n"
          ]
        }
      ]
    },
    {
      "cell_type": "code",
      "source": [
        "# word embedding\n",
        "model.layers[0].get_weights()[0]"
      ],
      "metadata": {
        "colab": {
          "base_uri": "https://localhost:8080/"
        },
        "id": "Wg09g2kZxVso",
        "outputId": "203bddb0-6a3e-4a85-bd34-7a6743c84f44"
      },
      "execution_count": null,
      "outputs": [
        {
          "output_type": "execute_result",
          "data": {
            "text/plain": [
              "array([[-8.05806145e-02,  3.67959291e-02,  3.84860039e-02,\n",
              "         6.96972385e-03,  6.23772852e-02, -4.84075472e-02,\n",
              "        -3.51922959e-02, -8.22367147e-02],\n",
              "       [ 4.07399796e-02, -2.88557764e-02,  4.80941683e-03,\n",
              "        -4.29144502e-02,  2.48646997e-02, -3.98334116e-03,\n",
              "         3.11442651e-02,  9.40827280e-03],\n",
              "       [ 2.41012238e-02,  3.56241800e-02, -1.62905231e-02,\n",
              "        -1.51143670e-02,  3.66087295e-02,  1.55284069e-02,\n",
              "        -3.89590152e-02,  1.68357156e-02],\n",
              "       [ 1.49687380e-03, -3.42687257e-02, -9.55693796e-03,\n",
              "        -3.09592616e-02, -6.61833212e-03,  4.71772067e-02,\n",
              "         1.94991492e-02, -9.23343748e-03],\n",
              "       [-3.88728618e-03,  6.07041195e-02,  8.55623633e-02,\n",
              "         8.64775702e-02,  1.27314851e-02, -5.02541079e-04,\n",
              "         1.93086397e-02, -6.58103153e-02],\n",
              "       [-1.75579675e-02, -2.27724202e-02,  2.26706378e-02,\n",
              "         1.43569969e-02, -4.84803692e-02, -3.42891365e-03,\n",
              "         5.62459230e-03,  3.24455760e-02],\n",
              "       [-9.21002775e-02,  4.21660617e-02,  9.03614089e-02,\n",
              "         9.48120207e-02,  1.55177247e-02, -6.89190999e-02,\n",
              "        -9.14319307e-02, -3.87624726e-02],\n",
              "       [-3.28258872e-02, -6.69127703e-03,  7.31260702e-03,\n",
              "        -8.56149197e-03, -1.73945203e-02, -3.29441577e-02,\n",
              "        -3.53600383e-02,  4.45959605e-02],\n",
              "       [-4.08037007e-02,  6.96358830e-02,  2.48822942e-02,\n",
              "         7.60305524e-02,  7.77508542e-02, -7.78988143e-03,\n",
              "        -2.90439669e-02, -1.84573717e-02],\n",
              "       [-2.95193326e-02, -3.89985330e-02, -1.03134140e-02,\n",
              "        -1.81974396e-02,  2.89424919e-02, -8.55297968e-03,\n",
              "        -4.73759286e-02,  2.86399201e-03],\n",
              "       [ 7.97736570e-02, -4.54235040e-02, -2.69228667e-02,\n",
              "        -1.44663826e-03, -7.31240064e-02,  8.69324878e-02,\n",
              "         3.99874300e-02,  5.64959608e-02],\n",
              "       [ 1.33849718e-02, -1.78084150e-02,  1.22469179e-02,\n",
              "        -1.95181370e-02, -2.83343717e-03,  9.34012979e-03,\n",
              "         4.85098250e-02,  3.55438329e-02],\n",
              "       [-2.40381807e-03,  2.64667608e-02,  3.26747335e-02,\n",
              "        -1.13741867e-02, -4.48138602e-02,  2.63505913e-02,\n",
              "         9.87505913e-03, -1.08522996e-02],\n",
              "       [-2.35971808e-02,  2.54908241e-02, -4.43232320e-02,\n",
              "        -2.01928020e-02,  4.19831909e-02,  4.76097576e-02,\n",
              "        -3.18351015e-02, -2.97646597e-03],\n",
              "       [ 1.90407075e-02, -3.57296355e-02, -2.86024101e-02,\n",
              "        -4.92937490e-03, -3.52752917e-02, -4.42240722e-02,\n",
              "        -1.55879036e-02,  4.28853668e-02],\n",
              "       [-4.61516641e-02,  8.56737047e-03, -3.42304260e-02,\n",
              "        -9.29373503e-03,  2.02186815e-02,  2.24866308e-02,\n",
              "        -4.83418107e-02, -2.19713934e-02],\n",
              "       [-3.11668050e-02,  4.28818502e-02,  8.06782395e-03,\n",
              "        -2.77482271e-02, -4.77376953e-02,  3.95344384e-02,\n",
              "         6.42608851e-04, -4.27511707e-02],\n",
              "       [-1.03378892e-02,  4.19242308e-03,  1.65750049e-02,\n",
              "        -4.45399657e-02,  4.30718325e-02,  4.09304537e-02,\n",
              "         1.98054425e-02, -2.20169779e-02],\n",
              "       [-4.68977951e-02, -1.72630921e-02,  1.60790719e-02,\n",
              "         1.58044584e-02, -3.25946435e-02, -4.45554629e-02,\n",
              "         1.72853731e-02,  4.74931635e-02],\n",
              "       [ 7.90297985e-04, -1.66845322e-03,  4.81698178e-02,\n",
              "        -1.71006694e-02,  3.10552232e-02, -5.62337786e-03,\n",
              "         5.82206994e-04, -4.39100154e-02],\n",
              "       [-4.35866229e-02, -2.97562033e-03,  4.38324846e-02,\n",
              "         3.19806822e-02,  2.28313357e-03, -1.00713260e-02,\n",
              "        -4.82461937e-02,  2.31673457e-02],\n",
              "       [ 2.26002932e-03,  3.90500091e-02,  2.56259777e-02,\n",
              "         1.20223984e-02, -1.03366375e-03,  4.66430821e-02,\n",
              "        -2.82482393e-02,  2.56029405e-02],\n",
              "       [-4.83481959e-03, -2.80154347e-02, -2.09351666e-02,\n",
              "         4.87622358e-02, -9.23134387e-04,  4.86392714e-02,\n",
              "        -2.06109043e-02,  2.93783657e-02],\n",
              "       [ 2.85593979e-02, -4.19269688e-02, -2.65972260e-02,\n",
              "        -2.71236300e-02, -3.75586525e-02,  5.52082062e-03,\n",
              "        -1.28080025e-02, -1.43935196e-02],\n",
              "       [ 2.25859322e-02,  1.96129084e-03, -1.30560882e-02,\n",
              "         4.97271679e-02,  1.48952939e-02, -1.47577636e-02,\n",
              "         1.77156441e-02, -3.22895274e-02],\n",
              "       [ 1.24764927e-02, -9.63997915e-02, -6.06795400e-02,\n",
              "        -2.43992042e-02, -7.23293424e-02,  1.00602955e-01,\n",
              "         3.57272178e-02,  9.51545388e-02],\n",
              "       [ 3.26904096e-02,  1.31942518e-02,  1.63954757e-02,\n",
              "        -6.42491505e-03,  4.38804366e-02, -1.12328157e-02,\n",
              "         4.08113003e-04,  7.43281096e-04],\n",
              "       [-4.24353741e-02, -1.95055604e-02, -1.47189125e-02,\n",
              "        -4.39906716e-02,  4.71337773e-02, -4.72793728e-03,\n",
              "         9.42578167e-03, -2.12589651e-03],\n",
              "       [ 1.59206726e-02,  2.58547105e-02,  3.94039787e-02,\n",
              "         3.49663757e-02,  5.53881004e-03, -5.54239750e-03,\n",
              "        -1.56512111e-03,  2.84796990e-02],\n",
              "       [-2.12187562e-02,  4.47195657e-02,  9.12463218e-02,\n",
              "         4.30741049e-02,  9.96115729e-02, -2.27277782e-02,\n",
              "        -9.18475688e-02, -2.93848477e-02],\n",
              "       [-5.62337786e-03,  9.27951187e-03, -3.28709856e-02,\n",
              "         4.89632227e-02,  2.44786590e-03,  4.49248217e-02,\n",
              "        -1.70835741e-02, -2.65027173e-02],\n",
              "       [ 2.47006752e-02, -3.54539379e-02,  5.44170290e-03,\n",
              "        -3.54463235e-02,  2.30456479e-02,  8.29417631e-03,\n",
              "        -2.47594956e-02, -4.60090898e-02],\n",
              "       [-3.87297869e-02, -6.71532005e-03,  9.20604542e-03,\n",
              "         4.46224548e-02,  1.57050602e-02,  1.91726945e-02,\n",
              "        -2.52417922e-02,  3.64502110e-02],\n",
              "       [ 4.60267812e-02, -6.47467226e-02, -7.36358985e-02,\n",
              "        -3.97821795e-03, -5.07710800e-02,  3.24734300e-02,\n",
              "         1.27667869e-02,  1.85733754e-02],\n",
              "       [ 2.29909457e-02,  1.21025555e-02,  6.79943711e-03,\n",
              "         6.04987144e-04,  1.01359375e-02,  3.86106409e-02,\n",
              "        -1.78237557e-02,  4.03972529e-02],\n",
              "       [-3.99560705e-02, -4.13492322e-02,  3.61959375e-02,\n",
              "         1.80152394e-02,  8.15607235e-03, -4.34821360e-02,\n",
              "         3.17722224e-02,  3.53428237e-02],\n",
              "       [ 3.90393175e-02,  3.33905928e-02,  3.81346233e-02,\n",
              "        -3.83289084e-02,  2.38101594e-02,  2.65984610e-03,\n",
              "        -3.27562094e-02,  4.96454872e-02],\n",
              "       [-1.83179658e-02,  9.27340984e-02,  1.00602591e-02,\n",
              "         4.92947688e-03,  6.04104698e-02, -6.84051737e-02,\n",
              "        -3.83221097e-02, -2.69188397e-02],\n",
              "       [ 7.04366639e-02,  4.80783312e-03,  2.06634915e-03,\n",
              "        -7.46862888e-02, -5.49578182e-02,  2.03556512e-02,\n",
              "         2.82281619e-02,  6.02735728e-02],\n",
              "       [ 4.62311618e-02, -4.83078957e-02,  1.66317336e-02,\n",
              "         2.77279057e-02,  3.47381495e-02, -4.87953685e-02,\n",
              "        -3.10482625e-02,  3.03532742e-02],\n",
              "       [ 2.77963020e-02,  3.47911380e-02, -4.44078818e-02,\n",
              "         2.37195529e-02, -8.94419104e-03,  4.85543348e-02,\n",
              "         3.64804305e-02, -7.69425556e-03],\n",
              "       [ 5.01700602e-02, -5.44726737e-02, -9.53036845e-02,\n",
              "        -3.65607366e-02, -1.38905719e-02,  5.63294776e-02,\n",
              "         2.53463630e-02,  5.98484911e-02],\n",
              "       [ 3.01013142e-03,  3.07009257e-02, -2.40262635e-02,\n",
              "        -4.11675200e-02, -3.93088572e-02, -1.47949457e-02,\n",
              "         1.36900432e-02,  7.42166117e-03],\n",
              "       [-4.82072830e-02,  3.71670723e-03, -1.68864354e-02,\n",
              "        -1.77331939e-02,  1.59870498e-02, -1.85354240e-02,\n",
              "        -3.92948762e-02, -5.44990227e-03],\n",
              "       [-4.93472815e-02,  2.71088593e-02, -2.78192405e-02,\n",
              "        -4.55595143e-02,  1.54020637e-03, -1.31986625e-02,\n",
              "         4.52972986e-02,  8.73871893e-03],\n",
              "       [-3.65113169e-02,  7.41149709e-02,  4.64812033e-02,\n",
              "         4.26255651e-02,  9.64438170e-03, -1.64957512e-02,\n",
              "        -1.83361731e-02, -3.11860982e-02],\n",
              "       [ 5.22729978e-02, -4.26054522e-02, -8.28179792e-02,\n",
              "        -1.56933609e-02, -3.60793062e-02,  4.69873399e-02,\n",
              "        -1.57280825e-03, -2.95320759e-03],\n",
              "       [ 1.31490566e-02,  1.37229599e-02, -6.71068579e-03,\n",
              "         2.89092325e-02,  2.60985233e-02, -2.95967460e-02,\n",
              "         1.84146315e-03, -6.89826161e-03],\n",
              "       [-4.22903895e-02,  5.98914921e-05, -4.83746640e-02,\n",
              "        -3.96545045e-02,  1.00208446e-03, -2.23471280e-02,\n",
              "        -3.88187990e-02, -6.58520311e-03],\n",
              "       [-4.92185615e-02,  4.77385521e-03, -2.45963093e-02,\n",
              "        -2.84175947e-03,  6.30103424e-03, -3.30144763e-02,\n",
              "        -1.76501274e-02, -2.03714371e-02]], dtype=float32)"
            ]
          },
          "metadata": {},
          "execution_count": 7
        }
      ]
    },
    {
      "cell_type": "code",
      "source": [
        "# Flatten layer shape\n",
        "model.layers[1](model.layers[0](padded_docs)).shape"
      ],
      "metadata": {
        "colab": {
          "base_uri": "https://localhost:8080/"
        },
        "id": "lGG1tn8Axszg",
        "outputId": "295c87bb-35c8-4b80-da23-80374f1a3bf6"
      },
      "execution_count": null,
      "outputs": [
        {
          "output_type": "execute_result",
          "data": {
            "text/plain": [
              "TensorShape([10, 8])"
            ]
          },
          "metadata": {},
          "execution_count": 8
        }
      ]
    },
    {
      "cell_type": "code",
      "source": [
        "# Flatten layer values\n",
        "model.layers[1](model.layers[0](padded_docs))[0]"
      ],
      "metadata": {
        "colab": {
          "base_uri": "https://localhost:8080/"
        },
        "id": "65GMjzkYx0w3",
        "outputId": "e0c954cb-e42f-400b-cf1f-9aa2246c6342"
      },
      "execution_count": null,
      "outputs": [
        {
          "output_type": "execute_result",
          "data": {
            "text/plain": [
              "<tf.Tensor: shape=(8,), dtype=float32, numpy=\n",
              "array([-0.04656682,  0.04475389,  0.06344517,  0.03587278,  0.05927441,\n",
              "       -0.03001135, -0.03573088, -0.06491715], dtype=float32)>"
            ]
          },
          "metadata": {},
          "execution_count": 9
        }
      ]
    },
    {
      "cell_type": "code",
      "source": [
        ""
      ],
      "metadata": {
        "id": "t5USk9tgyLfn"
      },
      "execution_count": null,
      "outputs": []
    }
  ]
}